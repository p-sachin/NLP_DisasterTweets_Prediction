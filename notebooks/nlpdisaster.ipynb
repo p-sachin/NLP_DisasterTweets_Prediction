{
 "cells": [
  {
   "cell_type": "code",
   "execution_count": 32,
   "metadata": {},
   "outputs": [],
   "source": [
    "#Importing the libraries\n",
    "import pandas as pd\n",
    "import numpy as np\n",
    "import matplotlib.pyplot as plt\n",
    "import unicodedata\n",
    "import string\n",
    "from sklearn.model_selection import train_test_split\n",
    "from sklearn.metrics import confusion_matrix, ConfusionMatrixDisplay\n",
    "from sklearn.feature_extraction.text import CountVectorizer\n",
    "from sklearn.ensemble import RandomForestClassifier\n",
    "from sklearn.ensemble import GradientBoostingClassifier\n",
    "from sklearn.neighbors import KNeighborsClassifier\n",
    "from sklearn.linear_model import LogisticRegression\n",
    "from sklearn import metrics\n",
    "from sklearn.svm import SVC\n",
    "import seaborn as sns\n",
    "import joblib\n",
    "import re\n",
    "import spacy\n",
    "%matplotlib inline\n"
   ]
  },
  {
   "cell_type": "code",
   "execution_count": 3,
   "metadata": {},
   "outputs": [],
   "source": [
    "# Load the spacy library for text cleaning\n",
    "nlp = spacy.load('en_core_web_sm')"
   ]
  },
  {
   "cell_type": "code",
   "execution_count": 4,
   "metadata": {},
   "outputs": [],
   "source": [
    "#Loading the dataset\n",
    "df_train = pd.read_csv('../data/train.csv')\n",
    "df_test = pd.read_csv(\"../data/test.csv\")"
   ]
  },
  {
   "cell_type": "code",
   "execution_count": 5,
   "metadata": {},
   "outputs": [
    {
     "name": "stdout",
     "output_type": "stream",
     "text": [
      "<class 'pandas.core.frame.DataFrame'>\n",
      "RangeIndex: 7613 entries, 0 to 7612\n",
      "Data columns (total 5 columns):\n",
      " #   Column    Non-Null Count  Dtype \n",
      "---  ------    --------------  ----- \n",
      " 0   id        7613 non-null   int64 \n",
      " 1   keyword   7552 non-null   object\n",
      " 2   location  5080 non-null   object\n",
      " 3   text      7613 non-null   object\n",
      " 4   target    7613 non-null   int64 \n",
      "dtypes: int64(2), object(3)\n",
      "memory usage: 297.5+ KB\n"
     ]
    }
   ],
   "source": [
    "#Data Analysis\n",
    "df_train.info()"
   ]
  },
  {
   "cell_type": "code",
   "execution_count": 6,
   "metadata": {},
   "outputs": [],
   "source": [
    "def data_visualization(df):\n",
    "    fig, axes = plt.subplots(ncols=1, figsize=(5, 5), dpi=100)\n",
    "    plt.tight_layout()\n",
    "    # df.groupby('target').count()['id'].plot(\n",
    "    #     kind='pie', ax=axes[0], labels=['Not Disaster (57%)', 'Disaster (43%)'])\n",
    "    sns.countplot(x=df['target'], hue=df['target'], ax=axes)\n",
    "   # axes[0].set_ylabel('')\n",
    "    axes.set_ylabel('')\n",
    "    axes.set_xticklabels(['Not Disaster (4342)', 'Disaster (3271)'])\n",
    "   # axes[0].tick_params(axis='x', labelsize=10)\n",
    "   # axes[0].tick_params(axis='y', labelsize=10)\n",
    "    axes.tick_params(axis='x', labelsize=9)\n",
    "    axes.tick_params(axis='y', labelsize=9)\n",
    "   # axes[0].set_title('Target Distribution', fontsize=10)\n",
    "    axes.set_title('Target Count', fontsize=9)"
   ]
  },
  {
   "cell_type": "code",
   "execution_count": 7,
   "metadata": {},
   "outputs": [
    {
     "data": {
      "image/png": "[encoded data removed]",
      "text/plain": [
       "<Figure size 500x500 with 1 Axes>"
      ]
     },
     "metadata": {
      "needs_background": "light"
     },
     "output_type": "display_data"
    }
   ],
   "source": [
    "data_visualization(df_train)"
   ]
  },
  {
   "cell_type": "code",
   "execution_count": 8,
   "metadata": {},
   "outputs": [
    {
     "data": {
      "text/plain": [
       "id             0\n",
       "keyword       61\n",
       "location    2533\n",
       "text           0\n",
       "target         0\n",
       "dtype: int64"
      ]
     },
     "execution_count": 8,
     "metadata": {},
     "output_type": "execute_result"
    }
   ],
   "source": [
    "# Checking NaN entries in the dataset\n",
    "df_train.isnull().sum()"
   ]
  },
  {
   "cell_type": "code",
   "execution_count": 9,
   "metadata": {},
   "outputs": [],
   "source": [
    "def check_nan_values(df):\n",
    "    print(f'Missing Entries for Keyword: {df.keyword.isnull().sum()}')\n",
    "    print(f'Missing Entries for Keyword in Percentage: {round((df.keyword.isnull().sum() / df.shape[0])*100, 2)}')\n",
    "    print(f'Missing Entries for Location: {df.location.isnull().sum()}')\n",
    "    print(f'Missing Entries for Location in Percentage: {round((df.location.isnull().sum() / df.shape[0])*100,2)}')"
   ]
  },
  {
   "cell_type": "code",
   "execution_count": 10,
   "metadata": {},
   "outputs": [
    {
     "name": "stdout",
     "output_type": "stream",
     "text": [
      "Missing Entries for Keyword: 61\n",
      "Missing Entries for Keyword in Percentage: 0.8\n",
      "Missing Entries for Location: 2533\n",
      "Missing Entries for Location in Percentage: 33.27\n"
     ]
    }
   ],
   "source": [
    "check_nan_values(df_train)"
   ]
  },
  {
   "cell_type": "code",
   "execution_count": 11,
   "metadata": {},
   "outputs": [
    {
     "data": {
      "text/plain": [
       "<AxesSubplot:>"
      ]
     },
     "execution_count": 11,
     "metadata": {},
     "output_type": "execute_result"
    },
    {
     "data": {
      "image/png": "[encoded data removed]",
      "text/plain": [
       "<Figure size 432x288 with 2 Axes>"
      ]
     },
     "metadata": {
      "needs_background": "light"
     },
     "output_type": "display_data"
    }
   ],
   "source": [
    "sns.heatmap(df_train.isnull(), yticklabels=False)"
   ]
  },
  {
   "cell_type": "markdown",
   "metadata": {},
   "source": [
    "Insights:\n",
    "From the dataset, there was missing entries on the information regarding location and the keywords. The missing entries for the keyword \n",
    "was significantly less which was around 0.8% which is acceptable whereas the location had 33.27% of missing entries. So, after closely looking at the location feature, the information obtained from this feature doesnot connects any information regarding the disaster tweets as it only tells about the place. So, the location feature can be discarded."
   ]
  },
  {
   "cell_type": "code",
   "execution_count": 12,
   "metadata": {},
   "outputs": [],
   "source": [
    "df_train.keyword.fillna('', inplace=True)"
   ]
  },
  {
   "cell_type": "code",
   "execution_count": 13,
   "metadata": {},
   "outputs": [],
   "source": [
    "# Turn a Unicode string to plain ASCII, thanks to https://stackoverflow.com/a/518232/2809427\n",
    "def unicode_to_ascii(s):\n",
    "    all_letters = string.ascii_letters + \" .,;'-\"\n",
    "    return ''.join(\n",
    "        c for c in unicodedata.normalize('NFD', s)\n",
    "        if unicodedata.category(c) != 'Mn'\n",
    "        and c in all_letters\n",
    "    )\n",
    "\n",
    "# Remove Stop Words\n",
    "def remove_stopwords(text):\n",
    "    doc = nlp(text)\n",
    "    return \" \".join([token.text for token in doc if not token.is_stop])"
   ]
  },
  {
   "cell_type": "code",
   "execution_count": 14,
   "metadata": {},
   "outputs": [],
   "source": [
    "def clean_text(text):\n",
    "    #print(f'Text before Cleaning: {text}')\n",
    "    # Text to lowercase\n",
    "    text = text.lower()\n",
    "    # Remove URL from text\n",
    "    text = re.sub(r\"http\\S+\", \"\", text)\n",
    "    # Remove Numbers from text\n",
    "    text = re.sub(r'\\d+', '', text)\n",
    "    # Convert the unicode string to plain ASCII\n",
    "    text = unicode_to_ascii(text)\n",
    "    # Remove Punctuations\n",
    "    text = re.sub(r'[^\\w\\s]','', text) \n",
    "    #text = remove_punct(text)\n",
    "    # Remove StopWords\n",
    "    text = remove_stopwords(text)\n",
    "    # Remove empty spaces\n",
    "    text = text.strip()\n",
    "    # \\s+ to match all whitespaces\n",
    "    # replace them using single space \" \"\n",
    "    text = re.sub(r\"\\s+\", \" \", text)    \n",
    "    #print(f'Text after Cleaning: {text}')\n",
    "    return text"
   ]
  },
  {
   "cell_type": "code",
   "execution_count": 15,
   "metadata": {},
   "outputs": [
    {
     "data": {
      "text/plain": [
       "'huge earthquake strikes valley persia savepersia persia'"
      ]
     },
     "execution_count": 15,
     "metadata": {},
     "output_type": "execute_result"
    }
   ],
   "source": [
    "clean_text('What!!!! A huge earthquake \\n strikes on the valley of persia. \\n #savepersia @persia')"
   ]
  },
  {
   "cell_type": "code",
   "execution_count": 20,
   "metadata": {},
   "outputs": [],
   "source": [
    "def preprocess_text(df):\n",
    "    df = df.drop([\"location\"], axis=1)\n",
    "    all_tweets = list()\n",
    "    print(\"Datapreprocessing Started!!!!\")\n",
    "    df[\"tc\"] = df.text.apply(lambda x: clean_text(x))\n",
    "    df[\"cleaned_keyword\"] = df.keyword.apply(lambda x: clean_text(x))\n",
    "    # Combining cleaned keyword and text to make a new feature keyword_text    \n",
    "    df[\"keyword_text\"] = df[\"cleaned_keyword\"] + \" \" + df[\"tc\"]\n",
    "    df.drop(['id', 'keyword', 'text', 'tc', 'cleaned_keyword'], axis=1, inplace=True)\n",
    "    tweets = df.keyword_text.values.tolist()\n",
    "    for tweet in tweets:\n",
    "    # Lemma the tweets\n",
    "        doc = nlp(tweet)\n",
    "        tokens = [token.lemma_ for token in doc]\n",
    "\n",
    "        # remove remaining tokens that are not alphabetic\n",
    "        words = [word for word in tokens if word.isalpha()]\n",
    "        \n",
    "        # filter out stop words\n",
    "        my_stopwords = ['amp','nt', '_', 'utckm']\n",
    "        stop_words = set(nlp.Defaults.stop_words)\n",
    "        words = [word for word in words if word not in stop_words and word not in my_stopwords]\n",
    "        all_tweets.append(words)\n",
    "    print(\"Datapreprocessing Done!!!\")\n",
    "\n",
    "    return all_tweets, df"
   ]
  },
  {
   "cell_type": "code",
   "execution_count": 21,
   "metadata": {},
   "outputs": [
    {
     "name": "stdout",
     "output_type": "stream",
     "text": [
      "Datapreprocessing Started!!!!\n",
      "Datapreprocessing Done!!!\n"
     ]
    }
   ],
   "source": [
    "_, preprocessed_data = preprocess_text(df_train)"
   ]
  },
  {
   "cell_type": "code",
   "execution_count": 22,
   "metadata": {},
   "outputs": [],
   "source": [
    "preprocessed_data.drop_duplicates(['keyword_text'], keep='last', inplace=True)\n"
   ]
  },
  {
   "cell_type": "code",
   "execution_count": 23,
   "metadata": {},
   "outputs": [],
   "source": [
    "X = preprocessed_data[\"keyword_text\"]\n",
    "y = preprocessed_data[\"target\"]"
   ]
  },
  {
   "cell_type": "code",
   "execution_count": 24,
   "metadata": {},
   "outputs": [],
   "source": [
    "#X_train, X_test, y_train, y_test = train_test_split(X, y, test_size=0.2, random_state=0)"
   ]
  },
  {
   "cell_type": "code",
   "execution_count": 25,
   "metadata": {},
   "outputs": [],
   "source": [
    "# Use CountVectorizer to encode text into vectors\n",
    "cv = CountVectorizer()\n",
    "X = cv.fit_transform(X)\n",
    "#X_test = cv.transform(X_test)"
   ]
  },
  {
   "cell_type": "code",
   "execution_count": 26,
   "metadata": {},
   "outputs": [],
   "source": [
    "### BEGIN SOLUTION\n",
    "ml_classifiers = {\n",
    "    \"Random Forest\": RandomForestClassifier(min_samples_leaf=3),\n",
    "    \"Skl GBM\": GradientBoostingClassifier(n_estimators=250, max_depth=4),\n",
    "    \"SVC\": SVC(C=0.5),\n",
    "    \"KNN\": KNeighborsClassifier(n_neighbors=3),\n",
    "    \"Logistic Regression\": LogisticRegression(penalty='l2', solver='liblinear', C=0.03)\n",
    "}"
   ]
  },
  {
   "cell_type": "code",
   "execution_count": 27,
   "metadata": {},
   "outputs": [],
   "source": [
    "from sklearn import model_selection\n",
    "\n",
    "skf = model_selection.StratifiedKFold(n_splits=5, shuffle=True)\n"
   ]
  },
  {
   "cell_type": "code",
   "execution_count": 28,
   "metadata": {},
   "outputs": [
    {
     "name": "stdout",
     "output_type": "stream",
     "text": [
      "Training RandomForestClassifier(min_samples_leaf=3)\n",
      "Finished Training RandomForestClassifier(min_samples_leaf=3)\n",
      "Training GradientBoostingClassifier(max_depth=4, n_estimators=250)\n",
      "Finished Training GradientBoostingClassifier(max_depth=4, n_estimators=250)\n",
      "Training SVC(C=0.5)\n",
      "Finished Training SVC(C=0.5)\n",
      "Training KNeighborsClassifier(n_neighbors=3)\n",
      "Finished Training KNeighborsClassifier(n_neighbors=3)\n",
      "Training LogisticRegression(C=0.03, solver='liblinear')\n",
      "Finished Training LogisticRegression(C=0.03, solver='liblinear')\n"
     ]
    }
   ],
   "source": [
    "import time\n",
    "\n",
    "results = []\n",
    "accuracy = 0\n",
    "for name, model in ml_classifiers.items():\n",
    "    start_time = time.time()\n",
    "    print(f'Training {model}')\n",
    "    #model.fit(X_train, y_train)\n",
    "    #prediction = model.predict(X_test)\n",
    "    prediction = model_selection.cross_val_predict(model, X, y, cv=skf)\n",
    "    acc = (prediction==y).mean()*100\n",
    "    total_time = time.time() - start_time\n",
    "    print(f'Finished Training {model}')\n",
    "    \n",
    "    results.append({\n",
    "        'ModelName': name,\n",
    "        #'Train Accuracy': model.(X_train, y_train)*100,\n",
    "        'Accuracy': acc,\n",
    "        'F1-Score': metrics.f1_score(prediction, y, average='macro')*100,\n",
    "        'Time': total_time})\n",
    "\n",
    "    # conf_mat = confusion_matrix(y, prediction, labels=model.classes_)\n",
    "    # disp = ConfusionMatrixDisplay(confusion_matrix=conf_mat, display_labels=model.classes_)\n",
    "    # disp.plot()\n",
    "\n",
    "    if acc > accuracy:\n",
    "        accuracy = acc\n",
    "        best_model = model\n",
    "        \n",
    "results_ord = pd.DataFrame(results)"
   ]
  },
  {
   "cell_type": "code",
   "execution_count": 29,
   "metadata": {},
   "outputs": [
    {
     "data": {
      "text/html": [
       "<div>\n",
       "<style scoped>\n",
       "    .dataframe tbody tr th:only-of-type {\n",
       "        vertical-align: middle;\n",
       "    }\n",
       "\n",
       "    .dataframe tbody tr th {\n",
       "        vertical-align: top;\n",
       "    }\n",
       "\n",
       "    .dataframe thead th {\n",
       "        text-align: right;\n",
       "    }\n",
       "</style>\n",
       "<table border=\"1\" class=\"dataframe\">\n",
       "  <thead>\n",
       "    <tr style=\"text-align: right;\">\n",
       "      <th></th>\n",
       "      <th>ModelName</th>\n",
       "      <th>Accuracy</th>\n",
       "      <th>F1-Score</th>\n",
       "      <th>Time</th>\n",
       "    </tr>\n",
       "  </thead>\n",
       "  <tbody>\n",
       "    <tr>\n",
       "      <th>0</th>\n",
       "      <td>Random Forest</td>\n",
       "      <td>78.610789</td>\n",
       "      <td>77.015061</td>\n",
       "      <td>71.114553</td>\n",
       "    </tr>\n",
       "    <tr>\n",
       "      <th>1</th>\n",
       "      <td>Skl GBM</td>\n",
       "      <td>76.609629</td>\n",
       "      <td>74.150429</td>\n",
       "      <td>208.925617</td>\n",
       "    </tr>\n",
       "    <tr>\n",
       "      <th>2</th>\n",
       "      <td>SVC</td>\n",
       "      <td>76.740139</td>\n",
       "      <td>74.178574</td>\n",
       "      <td>24.522794</td>\n",
       "    </tr>\n",
       "    <tr>\n",
       "      <th>3</th>\n",
       "      <td>KNN</td>\n",
       "      <td>71.592227</td>\n",
       "      <td>67.560941</td>\n",
       "      <td>1.851909</td>\n",
       "    </tr>\n",
       "    <tr>\n",
       "      <th>4</th>\n",
       "      <td>Logistic Regression</td>\n",
       "      <td>77.262181</td>\n",
       "      <td>74.638551</td>\n",
       "      <td>1.874376</td>\n",
       "    </tr>\n",
       "  </tbody>\n",
       "</table>\n",
       "</div>"
      ],
      "text/plain": [
       "             ModelName   Accuracy   F1-Score        Time\n",
       "0        Random Forest  78.610789  77.015061   71.114553\n",
       "1              Skl GBM  76.609629  74.150429  208.925617\n",
       "2                  SVC  76.740139  74.178574   24.522794\n",
       "3                  KNN  71.592227  67.560941    1.851909\n",
       "4  Logistic Regression  77.262181  74.638551    1.874376"
      ]
     },
     "execution_count": 29,
     "metadata": {},
     "output_type": "execute_result"
    }
   ],
   "source": [
    "results_ord"
   ]
  }
 ],
 "metadata": {
  "interpreter": {
   "hash": "449625f8dd8d5804ea469d8ddea1db53934fdd1ef209ff52828328ca3da54206"
  },
  "kernelspec": {
   "display_name": "Python 3.7.11 64-bit ('ai-npl': conda)",
   "language": "python",
   "name": "python3"
  },
  "language_info": {
   "codemirror_mode": {
    "name": "ipython",
    "version": 3
   },
   "file_extension": ".py",
   "mimetype": "text/x-python",
   "name": "python",
   "nbconvert_exporter": "python",
   "pygments_lexer": "ipython3",
   "version": "3.7.11"
  },
  "orig_nbformat": 4
 },
 "nbformat": 4,
 "nbformat_minor": 2
}
